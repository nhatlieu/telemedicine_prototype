{
 "cells": [
  {
   "cell_type": "code",
   "execution_count": 2,
   "metadata": {},
   "outputs": [],
   "source": [
    "import pandas as pd"
   ]
  },
  {
   "cell_type": "code",
   "execution_count": 3,
   "metadata": {},
   "outputs": [],
   "source": [
    "dia_3_df = pd.read_csv('./dia_3.csv')\n",
    "dia_t_df = pd.read_csv('./dia_t.csv')\n",
    "diagn_title_df = pd.read_csv('./diagn_title.csv')\n",
    "diffsydiw_df = pd.read_csv('./diffsydiw.csv')\n",
    "sym_3_df = pd.read_csv('./sym_3.csv')\n",
    "dia_dis_matrix_df = pd.read_csv('./sym_dis_matrix.csv')\n",
    "sym_t_df = pd.read_csv('./sym_t.csv')\n",
    "symtoms2_df = pd.read_csv('./symptoms2.csv')\n"
   ]
  },
  {
   "cell_type": "markdown",
   "metadata": {},
   "source": [
    "# データの統合\n",
    "この例では、症例（sym_3_df, sym_t_df）と診断（dia_3_df, dia_t_df, diagn_title_df）のデータを統合します。\n",
    "症状と診断の関連データ（diffsydiw_df）も結合します。\n"
   ]
  },
  {
   "cell_type": "markdown",
   "metadata": {},
   "source": [
    "症状データの統合"
   ]
  },
  {
   "cell_type": "code",
   "execution_count": 5,
   "metadata": {},
   "outputs": [],
   "source": [
    "symptoms_df = pd.merge(sym_3_df, sym_t_df, left_on='_id', right_on='syd', how='inner')\n"
   ]
  },
  {
   "cell_type": "markdown",
   "metadata": {},
   "source": [
    "dia_3.csv の '_id' 列を整数型に変換"
   ]
  },
  {
   "cell_type": "code",
   "execution_count": 14,
   "metadata": {},
   "outputs": [],
   "source": [
    "dia_3_df['_id'] = pd.to_numeric(dia_3_df['_id'], errors='coerce')\n",
    "dia_t_df['did'] = pd.to_numeric(dia_t_df['did'], errors='coerce')"
   ]
  },
  {
   "cell_type": "markdown",
   "metadata": {},
   "source": [
    "変換できなかった行を削除"
   ]
  },
  {
   "cell_type": "code",
   "execution_count": 18,
   "metadata": {},
   "outputs": [],
   "source": [
    "dia_3_df.dropna(subset=['_id'], inplace=True)\n",
    "dia_t_df.dropna(subset=['did'], inplace=True)"
   ]
  },
  {
   "cell_type": "markdown",
   "metadata": {},
   "source": [
    "診断データの統合"
   ]
  },
  {
   "cell_type": "code",
   "execution_count": 15,
   "metadata": {},
   "outputs": [],
   "source": [
    "diagnosis_df = pd.merge(dia_3_df, dia_t_df, left_on='_id', right_on='did', how='inner')\n",
    "diagnosis_df = pd.merge(diagnosis_df, diagn_title_df, left_on='_id', right_on='id', how='inner')"
   ]
  },
  {
   "cell_type": "markdown",
   "metadata": {},
   "source": [
    "症状と診断の関連データの統合"
   ]
  },
  {
   "cell_type": "code",
   "execution_count": 16,
   "metadata": {},
   "outputs": [],
   "source": [
    "symptom_diagnosis_relation = pd.merge(diffsydiw_df, symptoms_df, left_on='syd', right_on='syd', how='inner')\n",
    "symptom_diagnosis_relation = pd.merge(symptom_diagnosis_relation, diagnosis_df, left_on='did', right_on='did', how='inner')"
   ]
  },
  {
   "cell_type": "markdown",
   "metadata": {},
   "source": [
    "統合したデータの確認"
   ]
  },
  {
   "cell_type": "code",
   "execution_count": 17,
   "metadata": {},
   "outputs": [
    {
     "data": {
      "text/html": [
       "<div>\n",
       "<style scoped>\n",
       "    .dataframe tbody tr th:only-of-type {\n",
       "        vertical-align: middle;\n",
       "    }\n",
       "\n",
       "    .dataframe tbody tr th {\n",
       "        vertical-align: top;\n",
       "    }\n",
       "\n",
       "    .dataframe thead th {\n",
       "        text-align: right;\n",
       "    }\n",
       "</style>\n",
       "<table border=\"1\" class=\"dataframe\">\n",
       "  <thead>\n",
       "    <tr style=\"text-align: right;\">\n",
       "      <th></th>\n",
       "      <th>syd</th>\n",
       "      <th>did</th>\n",
       "      <th>wei</th>\n",
       "      <th>_id_x</th>\n",
       "      <th>symptom_x</th>\n",
       "      <th>symptom_y</th>\n",
       "      <th>_id_y</th>\n",
       "      <th>diagnose_x</th>\n",
       "      <th>diagnose_y</th>\n",
       "      <th>id</th>\n",
       "      <th>title</th>\n",
       "    </tr>\n",
       "  </thead>\n",
       "  <tbody>\n",
       "    <tr>\n",
       "      <th>0</th>\n",
       "      <td>1.0</td>\n",
       "      <td>163.0</td>\n",
       "      <td>2.0</td>\n",
       "      <td>1</td>\n",
       "      <td>Upper abdominal pain</td>\n",
       "      <td>Upper abdominal pain</td>\n",
       "      <td>163.0</td>\n",
       "      <td>Cholecystitis\u000binflammation of the gallbladder</td>\n",
       "      <td>Cholecystitis\u000binflammation of the gallbladder</td>\n",
       "      <td>163.0</td>\n",
       "      <td>Cholecystitis\u000binflammation of the gallbladder</td>\n",
       "    </tr>\n",
       "    <tr>\n",
       "      <th>1</th>\n",
       "      <td>2.0</td>\n",
       "      <td>163.0</td>\n",
       "      <td>1.0</td>\n",
       "      <td>2</td>\n",
       "      <td>Lower abdominal pain</td>\n",
       "      <td>Lower abdominal pain</td>\n",
       "      <td>163.0</td>\n",
       "      <td>Cholecystitis\u000binflammation of the gallbladder</td>\n",
       "      <td>Cholecystitis\u000binflammation of the gallbladder</td>\n",
       "      <td>163.0</td>\n",
       "      <td>Cholecystitis\u000binflammation of the gallbladder</td>\n",
       "    </tr>\n",
       "    <tr>\n",
       "      <th>2</th>\n",
       "      <td>7.0</td>\n",
       "      <td>163.0</td>\n",
       "      <td>1.0</td>\n",
       "      <td>7</td>\n",
       "      <td>Back ache or pain</td>\n",
       "      <td>Back ache or pain</td>\n",
       "      <td>163.0</td>\n",
       "      <td>Cholecystitis\u000binflammation of the gallbladder</td>\n",
       "      <td>Cholecystitis\u000binflammation of the gallbladder</td>\n",
       "      <td>163.0</td>\n",
       "      <td>Cholecystitis\u000binflammation of the gallbladder</td>\n",
       "    </tr>\n",
       "    <tr>\n",
       "      <th>3</th>\n",
       "      <td>29.0</td>\n",
       "      <td>163.0</td>\n",
       "      <td>2.0</td>\n",
       "      <td>29</td>\n",
       "      <td>Fever</td>\n",
       "      <td>Fever</td>\n",
       "      <td>163.0</td>\n",
       "      <td>Cholecystitis\u000binflammation of the gallbladder</td>\n",
       "      <td>Cholecystitis\u000binflammation of the gallbladder</td>\n",
       "      <td>163.0</td>\n",
       "      <td>Cholecystitis\u000binflammation of the gallbladder</td>\n",
       "    </tr>\n",
       "    <tr>\n",
       "      <th>4</th>\n",
       "      <td>32.0</td>\n",
       "      <td>163.0</td>\n",
       "      <td>1.0</td>\n",
       "      <td>32</td>\n",
       "      <td>Flank pain</td>\n",
       "      <td>Flank pain</td>\n",
       "      <td>163.0</td>\n",
       "      <td>Cholecystitis\u000binflammation of the gallbladder</td>\n",
       "      <td>Cholecystitis\u000binflammation of the gallbladder</td>\n",
       "      <td>163.0</td>\n",
       "      <td>Cholecystitis\u000binflammation of the gallbladder</td>\n",
       "    </tr>\n",
       "  </tbody>\n",
       "</table>\n",
       "</div>"
      ],
      "text/plain": [
       "    syd    did  wei  _id_x             symptom_x             symptom_y  _id_y  \\\n",
       "0   1.0  163.0  2.0      1  Upper abdominal pain  Upper abdominal pain  163.0   \n",
       "1   2.0  163.0  1.0      2  Lower abdominal pain  Lower abdominal pain  163.0   \n",
       "2   7.0  163.0  1.0      7     Back ache or pain     Back ache or pain  163.0   \n",
       "3  29.0  163.0  2.0     29                 Fever                 Fever  163.0   \n",
       "4  32.0  163.0  1.0     32            Flank pain            Flank pain  163.0   \n",
       "\n",
       "                                      diagnose_x  \\\n",
       "0  Cholecystitis\n",
       "inflammation of the gallbladder   \n",
       "1  Cholecystitis\n",
       "inflammation of the gallbladder   \n",
       "2  Cholecystitis\n",
       "inflammation of the gallbladder   \n",
       "3  Cholecystitis\n",
       "inflammation of the gallbladder   \n",
       "4  Cholecystitis\n",
       "inflammation of the gallbladder   \n",
       "\n",
       "                                      diagnose_y     id  \\\n",
       "0  Cholecystitis\n",
       "inflammation of the gallbladder  163.0   \n",
       "1  Cholecystitis\n",
       "inflammation of the gallbladder  163.0   \n",
       "2  Cholecystitis\n",
       "inflammation of the gallbladder  163.0   \n",
       "3  Cholecystitis\n",
       "inflammation of the gallbladder  163.0   \n",
       "4  Cholecystitis\n",
       "inflammation of the gallbladder  163.0   \n",
       "\n",
       "                                           title  \n",
       "0  Cholecystitis\n",
       "inflammation of the gallbladder  \n",
       "1  Cholecystitis\n",
       "inflammation of the gallbladder  \n",
       "2  Cholecystitis\n",
       "inflammation of the gallbladder  \n",
       "3  Cholecystitis\n",
       "inflammation of the gallbladder  \n",
       "4  Cholecystitis\n",
       "inflammation of the gallbladder  "
      ]
     },
     "execution_count": 17,
     "metadata": {},
     "output_type": "execute_result"
    }
   ],
   "source": [
    "symptom_diagnosis_relation.head()"
   ]
  },
  {
   "cell_type": "markdown",
   "metadata": {},
   "source": [
    "# 初期診断の提案を行う関数"
   ]
  },
  {
   "cell_type": "code",
   "execution_count": 20,
   "metadata": {},
   "outputs": [],
   "source": [
    "def initial_diagnosis_suggestion(symptom, data, top_n=5):\n",
    "    \"\"\"初期診断を提案する関数\"\"\"\n",
    "    filtered_data = data[data['symptom_x'] == symptom]\n",
    "    diagnoses = filtered_data.groupby('diagnose_x')['wei'].sum().reset_index()\n",
    "    top_diagnoses = diagnoses.sort_values(by='wei', ascending=False).head(top_n)\n",
    "    return top_diagnoses['diagnose_x'].tolist()"
   ]
  },
  {
   "cell_type": "markdown",
   "metadata": {},
   "source": [
    "# 診断の絞り込みを行う関数"
   ]
  },
  {
   "cell_type": "code",
   "execution_count": 25,
   "metadata": {},
   "outputs": [],
   "source": [
    "def refine_diagnosis(initial_diagnoses, additional_symptom, data, top_n=1):\n",
    "    \"\"\"診断の絞り込みを行う関数\"\"\"\n",
    "    filtered_data = data[data['symptom_x'] == additional_symptom]\n",
    "    filtered_data = filtered_data[filtered_data['diagnose_x'].isin(initial_diagnoses)]\n",
    "    refined_diagnoses = filtered_data.groupby('diagnose_x')['wei'].sum().reset_index()\n",
    "    top_refined_diagnoses = refined_diagnoses.sort_values(by='wei', ascending=False).head(top_n)\n",
    "    return top_refined_diagnoses['diagnose_x'].tolist()"
   ]
  },
  {
   "cell_type": "markdown",
   "metadata": {},
   "source": [
    "例：初期症状として「Back ache or pain」が選択され、追加症状として「Fever」が提供された場合の処理"
   ]
  },
  {
   "cell_type": "code",
   "execution_count": 26,
   "metadata": {},
   "outputs": [],
   "source": [
    "selected_symptom = \"Back ache or pain\"\n",
    "additional_symptom = \"Fever\""
   ]
  },
  {
   "cell_type": "code",
   "execution_count": 27,
   "metadata": {},
   "outputs": [
    {
     "name": "stdout",
     "output_type": "stream",
     "text": [
      "Initial Diagnosis Suggestions: ['Cholecystitis\\x0binflammation of the gallbladder', 'Cholelithiasis\\x0bgallstones', 'Lymphoma\\x0blymph node cancer', 'Multiple sclerosis\\x0bMS']\n"
     ]
    }
   ],
   "source": [
    "initial_suggestions = initial_diagnosis_suggestion(selected_symptom, symptom_diagnosis_relation)\n",
    "print(\"Initial Diagnosis Suggestions:\", initial_suggestions)"
   ]
  },
  {
   "cell_type": "code",
   "execution_count": 28,
   "metadata": {},
   "outputs": [
    {
     "name": "stdout",
     "output_type": "stream",
     "text": [
      "Refined Diagnosis Suggestions: ['Cholecystitis\\x0binflammation of the gallbladder']\n"
     ]
    }
   ],
   "source": [
    "refined_suggestions = refine_diagnosis(initial_suggestions, additional_symptom, symptom_diagnosis_relation)\n",
    "print(\"Refined Diagnosis Suggestions:\", refined_suggestions)"
   ]
  }
 ],
 "metadata": {
  "kernelspec": {
   "display_name": "Python 3",
   "language": "python",
   "name": "python3"
  },
  "language_info": {
   "codemirror_mode": {
    "name": "ipython",
    "version": 3
   },
   "file_extension": ".py",
   "mimetype": "text/x-python",
   "name": "python",
   "nbconvert_exporter": "python",
   "pygments_lexer": "ipython3",
   "version": "3.9.6"
  },
  "orig_nbformat": 4
 },
 "nbformat": 4,
 "nbformat_minor": 2
}
